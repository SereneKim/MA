{
 "cells": [
  {
   "cell_type": "markdown",
   "id": "aa94c6f8-a854-43b6-8c36-f7b01daf3674",
   "metadata": {},
   "source": [
    "# Title: Python to Neo4j\n",
    "This notebook converts the data frames in python to neo4j so that the data can be explored on neo4j. Exploring the data with Neo4j is intuitive and flexible. "
   ]
  },
  {
   "cell_type": "code",
   "execution_count": 2,
   "id": "c45aa7b3-937c-4e30-9be3-783d5a9fb289",
   "metadata": {},
   "outputs": [],
   "source": [
    "import mesa\n",
    "import numpy as np\n",
    "import random\n",
    "import networkx as nx \n",
    "import bisect\n",
    "from pathlib import Path\n",
    "import os\n",
    "import sys\n",
    "import csv\n",
    "import pandas as pd\n",
    "\n",
    "# Basic paths\n",
    "src_path = str(Path.cwd().parent / \"scripts\")\n",
    "sys.path.append(src_path)\n",
    "\n",
    "project_path = Path().resolve().parent\n",
    "csv_path = project_path / \"data\"\n",
    "\n",
    "# Python file stored in script folder\n",
    "from data_cleaning import *"
   ]
  },
  {
   "cell_type": "markdown",
   "id": "14602a41-b39f-42c9-a111-a7e04370005a",
   "metadata": {},
   "source": [
    "# Read the Data"
   ]
  },
  {
   "cell_type": "code",
   "execution_count": 3,
   "id": "0e259c3e-eee7-4cff-846d-0afc8f41003b",
   "metadata": {
    "scrolled": true,
    "tags": []
   },
   "outputs": [],
   "source": [
    "'''\n",
    "    if <s{j}r{i}_analysis.csv> files don't exist,\n",
    "    go to Notebooks > Aalysis.ipynb > Run \"Data Cleaning\" part.\n",
    "'''\n",
    "\n",
    "num_scen = 3\n",
    "num_reps = 10\n",
    "\n",
    "dfs = []\n",
    "for j in range(1, num_scen+1):\n",
    "    for i in range(1, num_reps+1):\n",
    "        file_name = f\"s{j}r{i}_analysis.csv\"\n",
    "        df = pd.read_csv(csv_path/file_name, index_col=0)\n",
    "        df['Scenario'] = j\n",
    "        df['Replication'] = i\n",
    "        dfs.append(df)"
   ]
  },
  {
   "cell_type": "markdown",
   "id": "4227fd0b-0e43-475e-881b-f813fd2713e8",
   "metadata": {},
   "source": [
    "🔻 I'm only working with **Scenario 1, Replication 1**, here."
   ]
  },
  {
   "cell_type": "code",
   "execution_count": 54,
   "id": "2227b045-3cc6-423c-be60-afcaa373dfac",
   "metadata": {
    "scrolled": true,
    "tags": []
   },
   "outputs": [
    {
     "data": {
      "text/plain": [
       "AgentID              int64\n",
       "Step                 int64\n",
       "Age                  int64\n",
       "Edu_level            int64\n",
       "Gender              object\n",
       "Income             float64\n",
       "Generation           int64\n",
       "Cohort               int64\n",
       "Weight              object\n",
       "Capital             object\n",
       "Brut               float64\n",
       "Child1             float64\n",
       "Child2             float64\n",
       "Mother             float64\n",
       "Father             float64\n",
       "Partner            float64\n",
       "Education           object\n",
       "Cultural           float64\n",
       "Economic           float64\n",
       "Social             float64\n",
       "Child1_Edu         float64\n",
       "Child2_Edu         float64\n",
       "Child1_Income      float64\n",
       "Child2_Income      float64\n",
       "Mother_Edu         float64\n",
       "Father_Edu         float64\n",
       "Mother_Income      float64\n",
       "Father_Income      float64\n",
       "Mother_Cultural    float64\n",
       "Mother_Economic    float64\n",
       "Mother_Social      float64\n",
       "Father_Cultural    float64\n",
       "Father_Economic    float64\n",
       "Father_Social      float64\n",
       "Scenario             int64\n",
       "Replication          int64\n",
       "dtype: object"
      ]
     },
     "execution_count": 54,
     "metadata": {},
     "output_type": "execute_result"
    }
   ],
   "source": [
    "df = dfs[0]\n",
    "\n",
    "# Check the type! If different, errors may occur later during the conversion. \n",
    "df.dtypes"
   ]
  },
  {
   "cell_type": "code",
   "execution_count": 4,
   "id": "22000d3b-6536-4fad-861e-1109a15361f7",
   "metadata": {},
   "outputs": [],
   "source": [
    "# PARAMETERS\n",
    "YOUR_PASSWORD: str = \"password\"\n",
    "YOUR_PORT: int = 7687 # This should probably not be changed"
   ]
  },
  {
   "cell_type": "code",
   "execution_count": 5,
   "id": "4dde8583-3819-41be-8b6d-1158f2a6c840",
   "metadata": {},
   "outputs": [],
   "source": [
    "import pandas as pd\n",
    "from py2neo import Graph, Node, Relationship\n",
    "\n",
    "graph = Graph(f\"bolt://localhost:{YOUR_PORT}\",password=YOUR_PASSWORD)"
   ]
  },
  {
   "cell_type": "code",
   "execution_count": 55,
   "id": "c7525f65-4261-4ed9-abc8-c9ef7ff64d27",
   "metadata": {},
   "outputs": [],
   "source": [
    "'''\n",
    "    This can be run whenever you want to reset Neo4j\n",
    "'''\n",
    "\n",
    "graph.run('match (n) detach delete n') # Drops all data\n",
    "try:\n",
    "    indexes = graph.run('show indexes yield name').to_data_frame()['name'] # drops all indices\n",
    "    for index in indexes:\n",
    "        graph.run(f'drop index {index}')\n",
    "except:\n",
    "    pass"
   ]
  },
  {
   "cell_type": "code",
   "execution_count": 56,
   "id": "b473b677-2dc0-4c6a-b9e2-32a88c54a5f6",
   "metadata": {},
   "outputs": [],
   "source": [
    "for i, row in df.iterrows():\n",
    "    agent_id = row['AgentID']\n",
    "    agent_node = graph.nodes.match(\"Agent\", id=agent_id).first()\n",
    "    if not agent_node:\n",
    "        agent_node = Node(\"Agent\", id=agent_id, education=row['Education'], gender=row['Gender'], generation=row['Generation'])\n",
    "        graph.create(agent_node)\n",
    "\n",
    "    if not pd.isna(row['Partner']):\n",
    "        spouse_id = (int(row['Partner']))\n",
    "        # str(int(row['Partner']))\n",
    "        spouse_node = graph.nodes.match(\"Agent\", id=spouse_id).first()\n",
    "        if not spouse_node:\n",
    "            spouse_education = df[df['AgentID'] == spouse_id].Education.iloc[0] if not df[df['AgentID'] == spouse_id].empty else None\n",
    "            spouse_gender = df[df['AgentID'] == spouse_id].Gender.iloc[0] if not df[df['AgentID'] == spouse_id].empty else None\n",
    "            spouse_generation = df[df['AgentID'] == spouse_id].Generation.iloc[0] if not df[df['AgentID'] == spouse_id].empty else 999\n",
    "            spouse_income = df[df['AgentID'] == spouse_id].Income.iloc[0] if not df[df['AgentID'] == spouse_id].empty else 99999\n",
    "            spouse_node = Node(\"Agent\", id=spouse_id, education= spouse_education, gender=spouse_gender, generation=int(spouse_generation), income=int(spouse_income))\n",
    "            graph.create(spouse_node)\n",
    "\n",
    "        spouse_rel = Relationship(agent_node, \"MARRIED\", spouse_node)\n",
    "        graph.create(spouse_rel)\n",
    "\n",
    "        has_spouse_rel = Relationship(spouse_node, \"MARRIED\", agent_node)\n",
    "        graph.create(has_spouse_rel)\n",
    "\n",
    "    for j in range(1, 3):\n",
    "        child_column = f\"Child{j}\"\n",
    "        if not pd.isna(row[child_column]):\n",
    "            child_id = (row[child_column])\n",
    "            # str(row[child_column])\n",
    "            child_node = graph.nodes.match(\"Agent\", id=child_id).first()\n",
    "\n",
    "            # Check for missing attributes before creating child node\n",
    "            child_education = df[df['AgentID'] == child_id].Education.iloc[0] if not df[df['AgentID'] == child_id].empty else None\n",
    "            child_gender = df[df['AgentID'] == child_id].Gender.iloc[0] if not df[df['AgentID'] == child_id].empty else None\n",
    "            child_generation = df[df['AgentID'] == child_id].Generation.iloc[0] if not df[df['AgentID'] == child_id].empty else 999\n",
    "            child_income = df[df['AgentID'] == child_id].Income.iloc[0] if not df[df['AgentID'] == child_id].empty else 99999\n",
    "            if child_education is not None and child_gender is not None and child_generation != 999 and child_income != 99999:\n",
    "                if not child_node:\n",
    "                    child_node = Node(\"Agent\", id=child_id, education=child_education, gender=child_gender, generation=int(child_generation), income=int(child_income))\n",
    "                    graph.create(child_node)\n",
    "\n",
    "                child_rel = Relationship(agent_node, \"HAS_CHILD\", child_node)\n",
    "                graph.create(child_rel)\n",
    "\n",
    "                if not pd.isna(row['Partner']):\n",
    "                    spouse_id = str(int(row['Partner']))\n",
    "                    spouse_node = graph.nodes.match(\"Agent\", id=spouse_id).first()\n",
    "                    if spouse_node:\n",
    "                        has_child_rel = Relationship(spouse_node, \"HAS_CHILD\", child_node)\n",
    "                        graph.create(has_child_rel)\n"
   ]
  },
  {
   "cell_type": "code",
   "execution_count": 57,
   "id": "38491a26-566d-4f0e-a90f-7a3ba507edff",
   "metadata": {},
   "outputs": [
    {
     "data": {
      "text/html": [
       "<table><tr><th>node</th></tr><tr><td style=\"text-align:left\">(_0:Agent:`Lower Tertiary` {education: &#039;Lower Tertiary&#039;, gender: &#039;M&#039;, generation: 1, id: 0})</td></tr><tr><td style=\"text-align:left\">(_1:Agent:`Lower Secondary` {education: &#039;Lower Secondary&#039;, gender: &#039;F&#039;, generation: 1, id: 71, income: 359})</td></tr><tr><td style=\"text-align:left\">(_2:Agent:`Upper Tertiary` {education: &#039;Upper Tertiary&#039;, gender: &#039;F&#039;, generation: 2, id: 525.0, income: 637})</td></tr></table>"
      ],
      "text/plain": [
       " node                                                                                                          \n",
       "---------------------------------------------------------------------------------------------------------------\n",
       " (_0:Agent:`Lower Tertiary` {education: 'Lower Tertiary', gender: 'M', generation: 1, id: 0})                  \n",
       " (_1:Agent:`Lower Secondary` {education: 'Lower Secondary', gender: 'F', generation: 1, id: 71, income: 359})  \n",
       " (_2:Agent:`Upper Tertiary` {education: 'Upper Tertiary', gender: 'F', generation: 2, id: 525.0, income: 637}) "
      ]
     },
     "execution_count": 57,
     "metadata": {},
     "output_type": "execute_result"
    }
   ],
   "source": [
    "# ⚠️ Important: To create labels!! \n",
    "\n",
    "graph.run(\n",
    "\"\"\"\n",
    "MATCH (n:Agent)\n",
    "CALL apoc.create.addLabels(id(n),[n.education])\n",
    "YIELD node\n",
    "RETURN node\n",
    "\n",
    "\"\"\"\n",
    ")"
   ]
  },
  {
   "cell_type": "code",
   "execution_count": 10,
   "id": "9cdab65b-8769-4f9b-9a9b-735ceb87ce57",
   "metadata": {
    "scrolled": true,
    "tags": []
   },
   "outputs": [
    {
     "data": {
      "text/html": [
       "<table><tr><th>a</th><th>b</th><th>c</th></tr><tr><td style=\"text-align:left\">(_3:Agent:`Upper Tertiary` {education: &#039;Upper Tertiary&#039;, gender: &#039;F&#039;, generation: 2, id: 722.0, income: 462})</td><td style=\"text-align:left\">(_0:Agent:`Lower Tertiary` {education: &#039;Lower Tertiary&#039;, gender: &#039;M&#039;, generation: 1, id: 0})</td><td style=\"text-align:left\">(_1:Agent:`Lower Secondary` {education: &#039;Lower Secondary&#039;, gender: &#039;F&#039;, generation: 1, id: 71, income: 359})</td></tr><tr><td style=\"text-align:left\">(_2:Agent:`Upper Tertiary` {education: &#039;Upper Tertiary&#039;, gender: &#039;F&#039;, generation: 2, id: 525.0, income: 637})</td><td style=\"text-align:left\">(_0:Agent:`Lower Tertiary` {education: &#039;Lower Tertiary&#039;, gender: &#039;M&#039;, generation: 1, id: 0})</td><td style=\"text-align:left\">(_1:Agent:`Lower Secondary` {education: &#039;Lower Secondary&#039;, gender: &#039;F&#039;, generation: 1, id: 71, income: 359})</td></tr><tr><td style=\"text-align:left\">(_3:Agent:`Upper Tertiary` {education: &#039;Upper Tertiary&#039;, gender: &#039;F&#039;, generation: 2, id: 722.0, income: 462})</td><td style=\"text-align:left\">(_0:Agent:`Lower Tertiary` {education: &#039;Lower Tertiary&#039;, gender: &#039;M&#039;, generation: 1, id: 0})</td><td style=\"text-align:left\">(_1:Agent:`Lower Secondary` {education: &#039;Lower Secondary&#039;, gender: &#039;F&#039;, generation: 1, id: 71, income: 359})</td></tr></table>"
      ],
      "text/plain": [
       " a                                                                                                             | b                                                                                            | c                                                                                                            \n",
       "---------------------------------------------------------------------------------------------------------------|----------------------------------------------------------------------------------------------|--------------------------------------------------------------------------------------------------------------\n",
       " (_3:Agent:`Upper Tertiary` {education: 'Upper Tertiary', gender: 'F', generation: 2, id: 722.0, income: 462}) | (_0:Agent:`Lower Tertiary` {education: 'Lower Tertiary', gender: 'M', generation: 1, id: 0}) | (_1:Agent:`Lower Secondary` {education: 'Lower Secondary', gender: 'F', generation: 1, id: 71, income: 359}) \n",
       " (_2:Agent:`Upper Tertiary` {education: 'Upper Tertiary', gender: 'F', generation: 2, id: 525.0, income: 637}) | (_0:Agent:`Lower Tertiary` {education: 'Lower Tertiary', gender: 'M', generation: 1, id: 0}) | (_1:Agent:`Lower Secondary` {education: 'Lower Secondary', gender: 'F', generation: 1, id: 71, income: 359}) \n",
       " (_3:Agent:`Upper Tertiary` {education: 'Upper Tertiary', gender: 'F', generation: 2, id: 722.0, income: 462}) | (_0:Agent:`Lower Tertiary` {education: 'Lower Tertiary', gender: 'M', generation: 1, id: 0}) | (_1:Agent:`Lower Secondary` {education: 'Lower Secondary', gender: 'F', generation: 1, id: 71, income: 359}) "
      ]
     },
     "execution_count": 10,
     "metadata": {},
     "output_type": "execute_result"
    }
   ],
   "source": [
    "graph.run(\n",
    "\"\"\"\n",
    "MATCH (a:Agent)-[:HAS_CHILD]-(b:Agent)-[:MARRIED]-(c:Agent)\n",
    "RETURN * \n",
    "\"\"\"\n",
    ")"
   ]
  },
  {
   "cell_type": "code",
   "execution_count": 8,
   "id": "90ccbf3e-539b-439a-b9c9-f18895ffc5f8",
   "metadata": {},
   "outputs": [
    {
     "data": {
      "text/plain": [
       "[{'count(labels(a))': 37, 'labels(a)': ['Agent', 'Lower Secondary']},\n",
       " {'count(labels(a))': 46, 'labels(a)': ['Agent', 'Primary']},\n",
       " {'count(labels(a))': 49, 'labels(a)': ['Agent', 'Upper Secondary']},\n",
       " {'count(labels(a))': 47, 'labels(a)': ['Agent', 'Upper Tertiary']},\n",
       " {'count(labels(a))': 60, 'labels(a)': ['Agent', 'Lower Tertiary']}]"
      ]
     },
     "execution_count": 8,
     "metadata": {},
     "output_type": "execute_result"
    }
   ],
   "source": [
    "graph.run(\n",
    "\"\"\"\n",
    "match (a)\n",
    "where not (a)-[:MARRIED]->(:Agent) and not (a)-[:HAS_CHILD]->(:Agent)\n",
    "return count(labels(a)), labels(a) \n",
    "\"\"\"\n",
    ").data()"
   ]
  },
  {
   "cell_type": "code",
   "execution_count": 6,
   "id": "2bcd8c4a-39b1-46c0-8728-111895bbe438",
   "metadata": {},
   "outputs": [
    {
     "data": {
      "text/plain": [
       "[{'label_count': 164, 'node_labels': ['Agent', 'Lower Secondary']},\n",
       " {'label_count': 2441, 'node_labels': ['Agent', 'Upper Tertiary']},\n",
       " {'label_count': 1153, 'node_labels': ['Agent', 'Lower Tertiary']},\n",
       " {'label_count': 114, 'node_labels': ['Agent', 'Primary']},\n",
       " {'label_count': 348, 'node_labels': ['Agent', 'Upper Secondary']}]"
      ]
     },
     "execution_count": 6,
     "metadata": {},
     "output_type": "execute_result"
    }
   ],
   "source": [
    "graph.run(\n",
    "\"\"\"\n",
    "MATCH (a:Agent {education: 'Upper Tertiary'})-[:HAS_CHILD]-(b:Agent)\n",
    "WHERE (a)-[:MARRIED]-(:Agent{education: 'Upper Tertiary'})\n",
    "RETURN count(labels(b)) AS label_count, labels(b) AS node_labels\n",
    "\"\"\"\n",
    ").data()"
   ]
  },
  {
   "cell_type": "code",
   "execution_count": 7,
   "id": "6d5e70c7-888b-456c-af97-3a5a30a49257",
   "metadata": {},
   "outputs": [
    {
     "data": {
      "text/plain": [
       "[{'label_count': 27, 'node_labels': ['Agent', 'Upper Tertiary']},\n",
       " {'label_count': 22, 'node_labels': ['Agent', 'Lower Secondary']},\n",
       " {'label_count': 31, 'node_labels': ['Agent', 'Upper Secondary']},\n",
       " {'label_count': 25, 'node_labels': ['Agent', 'Lower Tertiary']},\n",
       " {'label_count': 3, 'node_labels': ['Agent', 'Primary']}]"
      ]
     },
     "execution_count": 7,
     "metadata": {},
     "output_type": "execute_result"
    }
   ],
   "source": [
    "# Try all the combinations of couple's education. For the homogamy, the agents are counted twice.\n",
    "\n",
    "graph.run(\n",
    "\"\"\"\n",
    "MATCH (a:Agent {education: 'Upper Secondary'})-[:HAS_CHILD]->(b:Agent)<-[:HAS_CHILD]-(c:Agent{education: 'Lower Secondary'})\n",
    "WHERE (a)-[:MARRIED]-(c)\n",
    "RETURN count(labels(b)) AS label_count, labels(b) AS node_labels\n",
    "\"\"\"\n",
    ").data()"
   ]
  },
  {
   "cell_type": "code",
   "execution_count": 11,
   "id": "2e639857-d257-4285-ab7a-d51210327371",
   "metadata": {},
   "outputs": [
    {
     "data": {
      "text/plain": [
       "[{'label_count': 582, 'node_labels': ['Agent', 'Lower Secondary']},\n",
       " {'label_count': 2118, 'node_labels': ['Agent', 'Lower Tertiary']},\n",
       " {'label_count': 1238, 'node_labels': ['Agent', 'Upper Secondary']},\n",
       " {'label_count': 2176, 'node_labels': ['Agent', 'Upper Tertiary']},\n",
       " {'label_count': 402, 'node_labels': ['Agent', 'Primary']}]"
      ]
     },
     "execution_count": 11,
     "metadata": {},
     "output_type": "execute_result"
    }
   ],
   "source": [
    "graph.run(\n",
    "'''\n",
    "MATCH (a:Agent)-[:MARRIED]-(b:Agent)\n",
    "where a.education <> b.education\n",
    "RETURN count(labels(b)) AS label_count, labels(b) AS node_labels\n",
    "'''\n",
    ").data()"
   ]
  },
  {
   "cell_type": "code",
   "execution_count": null,
   "id": "124a3cf4-6f29-48d9-b307-dfd7328235c2",
   "metadata": {},
   "outputs": [],
   "source": []
  }
 ],
 "metadata": {
  "kernelspec": {
   "display_name": "Python 3 (ipykernel)",
   "language": "python",
   "name": "python3"
  },
  "language_info": {
   "codemirror_mode": {
    "name": "ipython",
    "version": 3
   },
   "file_extension": ".py",
   "mimetype": "text/x-python",
   "name": "python",
   "nbconvert_exporter": "python",
   "pygments_lexer": "ipython3",
   "version": "3.9.13"
  }
 },
 "nbformat": 4,
 "nbformat_minor": 5
}
