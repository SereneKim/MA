{
 "cells": [
  {
   "cell_type": "markdown",
   "id": "d021d5cb-2b62-482e-a187-1f1774ade10d",
   "metadata": {},
   "source": [
    "# Sensitivity Analysis"
   ]
  },
  {
   "cell_type": "markdown",
   "id": "922f3097-a48e-42b3-9645-8116f3b19d4a",
   "metadata": {},
   "source": [
    "# Data Cleaning for SA Data"
   ]
  },
  {
   "cell_type": "code",
   "execution_count": 1,
   "id": "ab6409ef-cdde-46a5-a2e8-af178aa51259",
   "metadata": {},
   "outputs": [],
   "source": [
    "import mesa\n",
    "import numpy as np\n",
    "import random\n",
    "import networkx as nx \n",
    "import bisect\n",
    "from pathlib import Path\n",
    "import os\n",
    "import sys\n",
    "import csv\n",
    "import pandas as pd\n",
    "\n",
    "# Basic paths\n",
    "src_path = str(Path.cwd().parent / \"scripts\")\n",
    "sys.path.append(src_path)\n",
    "\n",
    "project_path = Path().resolve().parent\n",
    "csv_path = project_path / \"data\"\n",
    "\n",
    "# Python file stored in script folder\n",
    "from data_cleaning import *"
   ]
  },
  {
   "cell_type": "code",
   "execution_count": 2,
   "id": "348e334d-5720-489f-9ce3-71ead101171b",
   "metadata": {},
   "outputs": [],
   "source": [
    "num_scen = 3\n",
    "num_reps = 10\n",
    "dfs = []\n",
    "for j in range(1, num_scen+1):\n",
    "    for i in range(1, num_reps+1):\n",
    "        file_name = f\"scenario{j}_rep{i}_uf05.csv\"\n",
    "        df = process_data(csv_path / file_name)\n",
    "        df['Scenario'] = j\n",
    "        df['Replication'] = i\n",
    "        dfs.append(df)"
   ]
  },
  {
   "cell_type": "code",
   "execution_count": 3,
   "id": "9c42439c-63d6-40b2-ab75-2da73b56f8b3",
   "metadata": {},
   "outputs": [],
   "source": [
    "for i in range(1, num_scen*num_reps+1):\n",
    "        df = dfs[i-1]\n",
    "        scen = df['Scenario'][0]\n",
    "        rep = df['Replication'][0]\n",
    "        df.to_csv(csv_path/f's{scen}r{rep}_uf05_analysis.csv')"
   ]
  },
  {
   "cell_type": "code",
   "execution_count": null,
   "id": "b9604f26-4cce-47d5-bf22-f527b609d259",
   "metadata": {},
   "outputs": [],
   "source": []
  }
 ],
 "metadata": {
  "kernelspec": {
   "display_name": "Python 3 (ipykernel)",
   "language": "python",
   "name": "python3"
  },
  "language_info": {
   "codemirror_mode": {
    "name": "ipython",
    "version": 3
   },
   "file_extension": ".py",
   "mimetype": "text/x-python",
   "name": "python",
   "nbconvert_exporter": "python",
   "pygments_lexer": "ipython3",
   "version": "3.9.13"
  }
 },
 "nbformat": 4,
 "nbformat_minor": 5
}
